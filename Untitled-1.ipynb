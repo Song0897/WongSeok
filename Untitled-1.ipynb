{
 "cells": [
  {
   "cell_type": "code",
   "execution_count": null,
   "metadata": {},
   "outputs": [],
   "source": [
    "import pandas as pd\n",
    "import matplotlib.pyplot as plt\n",
    "import seaborn as sns\n",
    "\n",
    "# 한글 폰트 설정\n",
    "plt.rcParams['font.family'] = 'NanumGothic'  # 원하는 한글 폰트명으로 변경\n",
    "\n",
    "# 데이터프레임 생성 (월별 데이터 예시)\n",
    "data = {\n",
    "    '월': ['1월', '2월', '3월', '4월', '5월', '6월', '7월', '8월', '9월', '10월', '11월', '12월'],\n",
    "    '서울': [10, 15, 20, 22, 25, 30, 32, 29, 26, 20, 15, 12],\n",
    "    '수남': [9, 13, 18, 20, 23, 27, 28, 25, 22, 18, 13, 10],\n",
    "    '수북': [8, 12, 16, 18, 21, 25, 26, 24, 21, 16, 12, 9],\n",
    "    '부산': [12, 17, 22, 24, 27, 32, 34, 30, 27, 22, 17, 14],\n",
    "    '대구': [11, 16, 21, 23, 26, 31, 33, 28, 25, 21, 16, 13],\n",
    "    '서부': [9, 13, 18, 20, 23, 27, 29, 25, 21, 17, 13, 10],\n",
    "    '중부': [10, 14, 19, 21, 24, 29, 31, 28, 24, 20, 14, 11]\n",
    "}\n",
    "\n",
    "df = pd.DataFrame(data)\n",
    "# 그래프 그리기\n",
    "plt.figure(figsize=(12, 6))  # 그래프 크기 조정\n",
    "sns.set(style=\"whitegrid\")  # 그래프 스타일 설정\n",
    "\n",
    "# 월별 기온 추이를 선 그래프로 표현\n",
    "for city in ['서울', '수남', '수북', '부산', '대구', '서부', '중부']:\n",
    "    sns.lineplot(x='월', y=city, data=df, label=city)\n",
    "\n",
    "plt.title('월별 기온 추이')\n",
    "plt.xlabel('월')\n",
    "plt.ylabel('기온 (°C)')\n",
    "plt.legend(loc='upper right')\n",
    "\n",
    "plt.show()\n",
    "\n"
   ]
  }
 ],
 "metadata": {
  "language_info": {
   "name": "python"
  },
  "orig_nbformat": 4
 },
 "nbformat": 4,
 "nbformat_minor": 2
}
