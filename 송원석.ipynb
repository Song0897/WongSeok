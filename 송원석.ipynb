{
 "cells": [
  {
   "cell_type": "code",
   "execution_count": null,
   "metadata": {},
   "outputs": [],
   "source": [
    "import pandas as pd\n",
    "import pymssql\n",
    "\n",
    "# MS SQL Server 연결 설정\n",
    "connection = pymssql.connect(\n",
    "    server='210.180.103.100',\n",
    "    user='hns_prm',\n",
    "    password='@tjqltmrhksflxla1',\n",
    "    database='데이터베이스 엔진'\n",
    ")\n",
    "\n",
    "# SQL 쿼리 실행\n",
    "query = \"SELECT * FROM your_table\"\n",
    "df = pd.read_sql(query, connection)\n",
    "\n",
    "# 엑셀 파일 경로\n",
    "excel_file_path = 'abc.xlsx'\n",
    "\n",
    "# 엑셀 파일 열기\n",
    "with pd.ExcelWriter(excel_file_path, engine='openpyxl', mode='a') as writer:\n",
    "    \n",
    "    # DataFrame을 \"시트1\"에 쓰기\n",
    "    df.to_excel(writer, sheet_name='시트1', index=False)\n",
    "    \n",
    "    # DataFrame을 \"시트2\"에 쓰기 (예시)\n",
    "    df.to_excel(writer, sheet_name='시트2', index=False)\n",
    "\n",
    "print(f\"쿼리 결과가 '{excel_file_path}' 파일의 '시트1'과 '시트2'에 저장되었습니다.\")\n"
   ]
  }
 ],
 "metadata": {
  "language_info": {
   "name": "python"
  },
  "orig_nbformat": 4
 },
 "nbformat": 4,
 "nbformat_minor": 2
}
