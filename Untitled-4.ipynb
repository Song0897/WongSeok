{
 "cells": [
  {
   "cell_type": "code",
   "execution_count": 1,
   "metadata": {},
   "outputs": [
    {
     "name": "stdout",
     "output_type": "stream",
     "text": [
      "Error: ('IM002', '[IM002] [Microsoft][ODBC 드라이버 관리자] 데이터 원본 이름이 없고 기본 드라이버를 지정하지 않았습니다. (0) (SQLDriverConnect)')\n"
     ]
    }
   ],
   "source": [
    "# 내업무 자동화  https://github.com/\n",
    "\n",
    "\n",
    "import pyodbc\n",
    "\n",
    "# 데이터베이스 연결 정보 설정\n",
    "server = '210.180.103.100'  # SQL Server의 주소 또는 이름\n",
    "database = '210.180.103.100'  # 연결할 데이터베이스 이름\n",
    "username = 'hns_prm'  # SQL Server 사용자명\n",
    "password = '@tjqltmrhksflxla1'  # 사용자의 비밀번호\n",
    "\n",
    "# 연결 문자열 생성\n",
    "connection_string = f'DRIVER=ODBC Driver 17 for SQL Server;SERVER={server};DATABASE={database};UID={username};PWD={password}'\n",
    "\n",
    "# 데이터베이스 연결\n",
    "try:\n",
    "    connection = pyodbc.connect(connection_string)\n",
    "    cursor = connection.cursor()\n",
    "\n",
    "    # SQL 쿼리 파일 읽기\n",
    "    with open('pol_20230911.sql', 'r') as sql_file:\n",
    "        sql_query = sql_file.read()\n",
    "\n",
    "    # SQL 쿼리 실행\n",
    "    cursor.execute(sql_query)\n",
    "\n",
    "    # 결과 가져오기\n",
    "    rows = cursor.fetchall()\n",
    "    \n",
    "    # 결과 출력 예제\n",
    "    for row in rows:\n",
    "        print(row)\n",
    "\n",
    "    # 연결 종료\n",
    "    cursor.close()\n",
    "    connection.close()\n",
    "\n",
    "except Exception as e:\n",
    "    print(f\"Error: {str(e)}\")"
   ]
  }
 ],
 "metadata": {
  "kernelspec": {
   "display_name": "base",
   "language": "python",
   "name": "python3"
  },
  "language_info": {
   "codemirror_mode": {
    "name": "ipython",
    "version": 3
   },
   "file_extension": ".py",
   "mimetype": "text/x-python",
   "name": "python",
   "nbconvert_exporter": "python",
   "pygments_lexer": "ipython3",
   "version": "3.11.4"
  },
  "orig_nbformat": 4
 },
 "nbformat": 4,
 "nbformat_minor": 2
}
